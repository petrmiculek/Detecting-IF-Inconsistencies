{
 "cells": [
  {
   "cell_type": "markdown",
   "id": "6b2a1a64-1a86-4a62-a105-9600f2ba1cb7",
   "metadata": {},
   "source": [
    "<h1> LOAD DATA AFTER UNZIP </h1>"
   ]
  },
  {
   "cell_type": "markdown",
   "id": "daa0d4cb-385a-4ae7-a160-d190520e59a9",
   "metadata": {},
   "source": [
    "In the folder shared_resources, you find the zip file of data and the README file for instructions where to put the data after unzipping."
   ]
  },
  {
   "cell_type": "code",
   "execution_count": 1,
   "id": "a52a465a-487b-402d-84c4-9a4d9a6fb59d",
   "metadata": {},
   "outputs": [],
   "source": [
    "import json\n",
    "DATA_PART = \"../shared_resources/data/functions_list.json\"\n",
    "\n",
    "with open(DATA_PART) as dt:\n",
    "    func_list = json.load(dt)"
   ]
  },
  {
   "cell_type": "code",
   "execution_count": 2,
   "id": "344904e4-14a1-4d67-a11b-6b26853aa127",
   "metadata": {},
   "outputs": [
    {
     "data": {
      "text/plain": [
       "100000"
      ]
     },
     "execution_count": 2,
     "metadata": {},
     "output_type": "execute_result"
    }
   ],
   "source": [
    "len(func_list)"
   ]
  },
  {
   "cell_type": "code",
   "execution_count": 3,
   "id": "399d2671-957e-4aeb-b807-90e87fb793bc",
   "metadata": {},
   "outputs": [
    {
     "name": "stdout",
     "output_type": "stream",
     "text": [
      "\n",
      "def TryMerge(self, d):\n",
      "    while d.avail() > 0:\n",
      "        tt = d.getVarInt32()\n",
      "        if tt == 10:\n",
      "            self.add_filenames(d.getPrefixedString())\n",
      "            continue\n",
      "\n",
      "\n",
      "        if (tt == 0): raise ProtocolBuffer.ProtocolBufferDecodeError\n",
      "        d.skipData(tt)\n",
      "\n"
     ]
    }
   ],
   "source": [
    "print(func_list[1])"
   ]
  },
  {
   "cell_type": "code",
   "execution_count": null,
   "id": "7298bc11-dfb1-4504-ae3c-69e7a5a071aa",
   "metadata": {},
   "outputs": [],
   "source": []
  }
 ],
 "metadata": {
  "kernelspec": {
   "display_name": "Python 3 (ipykernel)",
   "language": "python",
   "name": "python3"
  },
  "language_info": {
   "codemirror_mode": {
    "name": "ipython",
    "version": 3
   },
   "file_extension": ".py",
   "mimetype": "text/x-python",
   "name": "python",
   "nbconvert_exporter": "python",
   "pygments_lexer": "ipython3",
   "version": "3.8.10"
  }
 },
 "nbformat": 4,
 "nbformat_minor": 5
}
