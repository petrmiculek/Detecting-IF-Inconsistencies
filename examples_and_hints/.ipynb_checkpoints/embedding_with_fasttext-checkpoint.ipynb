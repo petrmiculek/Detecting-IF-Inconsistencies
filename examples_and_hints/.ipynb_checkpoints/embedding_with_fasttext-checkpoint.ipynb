{
 "cells": [
  {
   "cell_type": "markdown",
   "id": "b1430668-9182-4713-a191-af2989cd0e15",
   "metadata": {},
   "source": [
    "<h1> USING FASTTEXT FOR TOKEN AND SEQUENCE EMBEDDINGS </h1>"
   ]
  },
  {
   "cell_type": "markdown",
   "id": "9c480f6f-9a6d-4c01-a685-0a9b3e51da4c",
   "metadata": {},
   "source": [
    "The folder [shared_resources/pretrained_fasttext](../shared_resources/pretrained_fasttext) contains the link to the pretrained fasttext model."
   ]
  },
  {
   "cell_type": "markdown",
   "id": "ee6468d7-7483-421d-af7d-b8cce15b8443",
   "metadata": {},
   "source": [
    "## Example: Embedding embed_32 model"
   ]
  },
  {
   "cell_type": "code",
   "execution_count": null,
   "id": "333f9632-763b-49f0-abc1-16a923cda8d2",
   "metadata": {},
   "outputs": [],
   "source": [
    "## Make sure to install gensim package\n",
    "\n",
    "from gensim.models import FastText\n",
    "import gensim\n",
    " \n",
    "##try loading the tokenizer\n",
    "PATH = '../shared_resources/pretrained_fasttext/embed_if_32.mdl'\n",
    "embed_model = gensim.models.FastText.load(PATH)"
   ]
  },
  {
   "cell_type": "markdown",
   "id": "03669280-cf24-4aa8-9556-48acb0d529ee",
   "metadata": {},
   "source": [
    "### Similarity"
   ]
  },
  {
   "cell_type": "code",
   "execution_count": null,
   "id": "21b62e0c-ef18-46cb-aec3-0f22319f7092",
   "metadata": {},
   "outputs": [],
   "source": [
    "similarity = embed_model.wv.similarity('=', '>')\n",
    "print(similarity)\n",
    "\n",
    "similarity = embed_model.wv.similarity('==', '>')\n",
    "print(similarity)"
   ]
  },
  {
   "cell_type": "markdown",
   "id": "e9e2b14f-7f36-457a-878f-b99a6d6e7ab3",
   "metadata": {},
   "source": [
    "### Most similar tokens"
   ]
  },
  {
   "cell_type": "code",
   "execution_count": 4,
   "id": "909a2e7c-3bad-4963-96ea-e6252abe6006",
   "metadata": {},
   "outputs": [
    {
     "name": "stdout",
     "output_type": "stream",
     "text": [
      "[('v_len', 0.8910567760467529), ('len_', 0.880039393901825), ('m5_len', 0.8571930527687073), ('len_w', 0.8483595252037048), ('x_len', 0.8370495438575745), ('lenlen', 0.8341297507286072), ('len', 0.8320168852806091), ('lenr', 0.8259851336479187), ('ar_len', 0.8248469233512878), ('d_len', 0.8217968940734863)]\n"
     ]
    }
   ],
   "source": [
    "most_similar = embed_model.wv.most_similar('len(x)')\n",
    "print(most_similar)"
   ]
  },
  {
   "cell_type": "markdown",
   "id": "987d58a5-6e70-498c-b6c1-161e67f37fe0",
   "metadata": {},
   "source": [
    "### Embeddding vector"
   ]
  },
  {
   "cell_type": "code",
   "execution_count": 5,
   "id": "30587555-034f-455e-91a1-a35f03a475af",
   "metadata": {},
   "outputs": [
    {
     "name": "stdout",
     "output_type": "stream",
     "text": [
      "[  6.7529564   -9.964394    -1.8260309  -10.388263    -6.5207434\n",
      "   1.9055498    4.285392   -11.140352     4.084665    -7.6023407\n",
      "   8.614147    16.28056      1.5551897    8.734416    -3.3114815\n",
      "   0.35531428  -6.8794856   -5.0623484  -11.065971    -7.802344\n",
      "  -0.86469924   6.623688    -7.1245127   -5.279053     1.6626914\n",
      "  -5.969906     2.29899     10.980888     3.3477707   -7.4630017\n",
      "  -3.7319052   -0.6246684 ]\n"
     ]
    }
   ],
   "source": [
    "vector = embed_model.wv['for']\n",
    "print(vector)"
   ]
  },
  {
   "cell_type": "markdown",
   "id": "1f700230-0f11-4134-ba2e-8b2ab88b47b0",
   "metadata": {},
   "source": [
    "## Sequence embedding"
   ]
  },
  {
   "cell_type": "code",
   "execution_count": 6,
   "id": "bb754d6a-e0bf-4efd-8294-d7dd5ff6f9e5",
   "metadata": {},
   "outputs": [],
   "source": [
    "from sklearn import preprocessing\n",
    "import numpy as np\n",
    "\n",
    "# sequences: list of sequences of tokens\n",
    "# embd: embedding model\n",
    "# embedding vector size\n",
    "\n",
    "def vectorize_code(tokens, model):\n",
    "    vector = []\n",
    "    for t in tokens:\n",
    "        vector.append(model.wv[t])\n",
    "    return vector\n",
    "\n",
    "def vectorize_trim_pad(sequences, embd, embed_dim, seq_length = 48):\n",
    "    \n",
    "    trimed_stmts = []\n",
    "    for seq in sequences:\n",
    "        if len(seq) >= seq_length:\n",
    "            seq_vec = vectorize_code(seq[:seq_length], embd)\n",
    "        else:\n",
    "            seq_vec = vectorize_code(seq, embd) + [np.zeros(embed_dim) for _ in range(len(seq), seq_length, 1)]\n",
    "            \n",
    "        trimed_stmts.append(seq_vec)\n",
    "    return np.array(trimed_stmts)"
   ]
  },
  {
   "cell_type": "code",
   "execution_count": 7,
   "id": "5f794771-4c5e-4238-97c9-32fdae856691",
   "metadata": {},
   "outputs": [],
   "source": [
    "sequences = [[\"if\", \"x\", \">\", \"0\"]]\n",
    "\n",
    "\n",
    "embed_dim = 32\n",
    "seq_length = 48\n",
    "vectors = vectorize_trim_pad(sequences, embed_model, embed_dim, seq_length = seq_length)"
   ]
  },
  {
   "cell_type": "code",
   "execution_count": 8,
   "id": "33b25174-1bdb-4e12-9641-b25b828d5914",
   "metadata": {},
   "outputs": [
    {
     "data": {
      "text/plain": [
       "array([[[-21.96269417,  11.33774567,  12.3253231 , ..., -12.78934097,\n",
       "           6.25265408,   6.54338169],\n",
       "        [ -1.79927635,  10.91177177,  21.54956436, ...,  -2.67278123,\n",
       "          11.17793274,  -3.15423632],\n",
       "        [-31.85717583,  -6.4174633 ,  -1.22788358, ...,  -3.16708946,\n",
       "          35.54802704,  11.04066658],\n",
       "        ...,\n",
       "        [  0.        ,   0.        ,   0.        , ...,   0.        ,\n",
       "           0.        ,   0.        ],\n",
       "        [  0.        ,   0.        ,   0.        , ...,   0.        ,\n",
       "           0.        ,   0.        ],\n",
       "        [  0.        ,   0.        ,   0.        , ...,   0.        ,\n",
       "           0.        ,   0.        ]]])"
      ]
     },
     "execution_count": 8,
     "metadata": {},
     "output_type": "execute_result"
    }
   ],
   "source": [
    "vectors"
   ]
  },
  {
   "cell_type": "code",
   "execution_count": null,
   "id": "7bc5c114-9877-4eaa-81a8-79d18ae290b6",
   "metadata": {},
   "outputs": [],
   "source": []
  }
 ],
 "metadata": {
  "kernelspec": {
   "display_name": "Python 3 (ipykernel)",
   "language": "python",
   "name": "python3"
  },
  "language_info": {
   "codemirror_mode": {
    "name": "ipython",
    "version": 3
   },
   "file_extension": ".py",
   "mimetype": "text/x-python",
   "name": "python",
   "nbconvert_exporter": "python",
   "pygments_lexer": "ipython3",
   "version": "3.8.10"
  },
  "toc-autonumbering": true
 },
 "nbformat": 4,
 "nbformat_minor": 5
}
