{
 "cells": [
  {
   "cell_type": "markdown",
   "id": "40295c9a-bf99-47d5-b29a-6a6920109bf3",
   "metadata": {
    "tags": [],
    "pycharm": {
     "name": "#%% md\n"
    }
   },
   "source": [
    "# Python Code to AST Using LIBCST\n",
    "* You can find the full documentation at: https://libcst.readthedocs.io/en/latest/"
   ]
  },
  {
   "cell_type": "markdown",
   "id": "fbc03666-7e63-4cc3-aa36-9a7cf07acd26",
   "metadata": {
    "pycharm": {
     "name": "#%% md\n"
    }
   },
   "source": [
    "## INSTALLATION\n",
    "LIBCST is for Python3 only"
   ]
  },
  {
   "cell_type": "code",
   "execution_count": null,
   "outputs": [],
   "source": [],
   "metadata": {
    "collapsed": false,
    "pycharm": {
     "name": "#%%\n"
    }
   }
  },
  {
   "cell_type": "code",
   "execution_count": null,
   "id": "2c74e17a-789d-476e-a192-fa86448a15e0",
   "metadata": {
    "pycharm": {
     "name": "#%%\n",
     "is_executing": true
    }
   },
   "outputs": [],
   "source": [
    "!pip3 install libcst"
   ]
  },
  {
   "cell_type": "markdown",
   "id": "8ff5e824-bafc-4668-9eb4-66a2e5d70094",
   "metadata": {
    "pycharm": {
     "name": "#%% md\n"
    }
   },
   "source": [
    "## PARSE CODE"
   ]
  },
  {
   "cell_type": "code",
   "execution_count": 1,
   "id": "21fab89d-599b-4249-8c96-024e37c85451",
   "metadata": {
    "pycharm": {
     "name": "#%%\n"
    }
   },
   "outputs": [],
   "source": [
    "import libcst as cst"
   ]
  },
  {
   "cell_type": "markdown",
   "id": "19a3029b-2a02-4294-acf0-5cee75ffe54a",
   "metadata": {
    "pycharm": {
     "name": "#%% md\n"
    }
   },
   "source": [
    "### PARSE EXPRESSIONS"
   ]
  },
  {
   "cell_type": "code",
   "execution_count": 2,
   "id": "004ef9ea-b160-40fa-8885-d7625f850292",
   "metadata": {
    "pycharm": {
     "name": "#%%\n"
    }
   },
   "outputs": [],
   "source": [
    "exp = cst.parse_expression(\"x >=5 \")"
   ]
  },
  {
   "cell_type": "code",
   "execution_count": 3,
   "id": "39d74f61-ce5a-4556-b703-d666124ba87c",
   "metadata": {
    "pycharm": {
     "name": "#%%\n"
    }
   },
   "outputs": [
    {
     "name": "stdout",
     "output_type": "stream",
     "text": [
      "Comparison(\n",
      "    left=Name(\n",
      "        value='x',\n",
      "        lpar=[],\n",
      "        rpar=[],\n",
      "    ),\n",
      "    comparisons=[\n",
      "        ComparisonTarget(\n",
      "            operator=GreaterThanEqual(\n",
      "                whitespace_before=SimpleWhitespace(\n",
      "                    value=' ',\n",
      "                ),\n",
      "                whitespace_after=SimpleWhitespace(\n",
      "                    value='',\n",
      "                ),\n",
      "            ),\n",
      "            comparator=Integer(\n",
      "                value='5',\n",
      "                lpar=[],\n",
      "                rpar=[],\n",
      "            ),\n",
      "        ),\n",
      "    ],\n",
      "    lpar=[],\n",
      "    rpar=[],\n",
      ")\n"
     ]
    }
   ],
   "source": [
    "print(exp)"
   ]
  },
  {
   "cell_type": "markdown",
   "id": "86cb4bc7-d906-40b7-a5e8-fda9e9e11c81",
   "metadata": {
    "pycharm": {
     "name": "#%% md\n"
    }
   },
   "source": [
    "### PARSE STATEMENTS"
   ]
  },
  {
   "cell_type": "code",
   "execution_count": 4,
   "id": "dadfbca7-038a-4ba1-89ae-9b575219cb13",
   "metadata": {
    "pycharm": {
     "name": "#%%\n"
    }
   },
   "outputs": [],
   "source": [
    "stmt = cst.parse_statement('a = list(\"abcd\") + [\"e\"]') "
   ]
  },
  {
   "cell_type": "code",
   "execution_count": 5,
   "id": "f274a8b9-b179-4d8b-8404-657d3e1b0e6b",
   "metadata": {
    "scrolled": true,
    "tags": [],
    "pycharm": {
     "name": "#%%\n"
    }
   },
   "outputs": [
    {
     "name": "stdout",
     "output_type": "stream",
     "text": [
      "SimpleStatementLine(\n",
      "    body=[\n",
      "        Assign(\n",
      "            targets=[\n",
      "                AssignTarget(\n",
      "                    target=Name(\n",
      "                        value='a',\n",
      "                        lpar=[],\n",
      "                        rpar=[],\n",
      "                    ),\n",
      "                    whitespace_before_equal=SimpleWhitespace(\n",
      "                        value=' ',\n",
      "                    ),\n",
      "                    whitespace_after_equal=SimpleWhitespace(\n",
      "                        value=' ',\n",
      "                    ),\n",
      "                ),\n",
      "            ],\n",
      "            value=BinaryOperation(\n",
      "                left=Call(\n",
      "                    func=Name(\n",
      "                        value='list',\n",
      "                        lpar=[],\n",
      "                        rpar=[],\n",
      "                    ),\n",
      "                    args=[\n",
      "                        Arg(\n",
      "                            value=SimpleString(\n",
      "                                value='\"abcd\"',\n",
      "                                lpar=[],\n",
      "                                rpar=[],\n",
      "                            ),\n",
      "                            keyword=None,\n",
      "                            equal=MaybeSentinel.DEFAULT,\n",
      "                            comma=MaybeSentinel.DEFAULT,\n",
      "                            star='',\n",
      "                            whitespace_after_star=SimpleWhitespace(\n",
      "                                value='',\n",
      "                            ),\n",
      "                            whitespace_after_arg=SimpleWhitespace(\n",
      "                                value='',\n",
      "                            ),\n",
      "                        ),\n",
      "                    ],\n",
      "                    lpar=[],\n",
      "                    rpar=[],\n",
      "                    whitespace_after_func=SimpleWhitespace(\n",
      "                        value='',\n",
      "                    ),\n",
      "                    whitespace_before_args=SimpleWhitespace(\n",
      "                        value='',\n",
      "                    ),\n",
      "                ),\n",
      "                operator=Add(\n",
      "                    whitespace_before=SimpleWhitespace(\n",
      "                        value=' ',\n",
      "                    ),\n",
      "                    whitespace_after=SimpleWhitespace(\n",
      "                        value=' ',\n",
      "                    ),\n",
      "                ),\n",
      "                right=List(\n",
      "                    elements=[\n",
      "                        Element(\n",
      "                            value=SimpleString(\n",
      "                                value='\"e\"',\n",
      "                                lpar=[],\n",
      "                                rpar=[],\n",
      "                            ),\n",
      "                            comma=MaybeSentinel.DEFAULT,\n",
      "                        ),\n",
      "                    ],\n",
      "                    lbracket=LeftSquareBracket(\n",
      "                        whitespace_after=SimpleWhitespace(\n",
      "                            value='',\n",
      "                        ),\n",
      "                    ),\n",
      "                    rbracket=RightSquareBracket(\n",
      "                        whitespace_before=SimpleWhitespace(\n",
      "                            value='',\n",
      "                        ),\n",
      "                    ),\n",
      "                    lpar=[],\n",
      "                    rpar=[],\n",
      "                ),\n",
      "                lpar=[],\n",
      "                rpar=[],\n",
      "            ),\n",
      "            semicolon=MaybeSentinel.DEFAULT,\n",
      "        ),\n",
      "    ],\n",
      "    leading_lines=[],\n",
      "    trailing_whitespace=TrailingWhitespace(\n",
      "        whitespace=SimpleWhitespace(\n",
      "            value='',\n",
      "        ),\n",
      "        comment=None,\n",
      "        newline=Newline(\n",
      "            value=None,\n",
      "        ),\n",
      "    ),\n",
      ")\n"
     ]
    }
   ],
   "source": [
    "print(stmt)"
   ]
  },
  {
   "cell_type": "markdown",
   "id": "645d1558-4cbd-41a2-bcf3-a6c075c7451a",
   "metadata": {
    "pycharm": {
     "name": "#%% md\n"
    }
   },
   "source": [
    "### PARSE MODULE"
   ]
  },
  {
   "cell_type": "code",
   "execution_count": 6,
   "id": "c79d878b-0f03-4bbe-bf4f-f83ccc0d89c8",
   "metadata": {
    "pycharm": {
     "name": "#%%\n"
    }
   },
   "outputs": [],
   "source": [
    "code = \"\"\"\n",
    "def random_func(a, b, s):\n",
    "    a = b * s\n",
    "    b = a * s\n",
    "    s = a * b\n",
    "    return a * s + b * s\n",
    "\"\"\"\n",
    "mdl = cst.parse_module(code)"
   ]
  },
  {
   "cell_type": "code",
   "execution_count": 7,
   "id": "ddead667-0069-4d39-bd36-a115bc775e50",
   "metadata": {
    "scrolled": true,
    "tags": [],
    "pycharm": {
     "name": "#%%\n"
    }
   },
   "outputs": [
    {
     "name": "stdout",
     "output_type": "stream",
     "text": [
      "Module(\n",
      "    body=[\n",
      "        FunctionDef(\n",
      "            name=Name(\n",
      "                value='random_func',\n",
      "                lpar=[],\n",
      "                rpar=[],\n",
      "            ),\n",
      "            params=Parameters(\n",
      "                params=[\n",
      "                    Param(\n",
      "                        name=Name(\n",
      "                            value='a',\n",
      "                            lpar=[],\n",
      "                            rpar=[],\n",
      "                        ),\n",
      "                        annotation=None,\n",
      "                        equal=MaybeSentinel.DEFAULT,\n",
      "                        default=None,\n",
      "                        comma=Comma(\n",
      "                            whitespace_before=SimpleWhitespace(\n",
      "                                value='',\n",
      "                            ),\n",
      "                            whitespace_after=SimpleWhitespace(\n",
      "                                value=' ',\n",
      "                            ),\n",
      "                        ),\n",
      "                        star='',\n",
      "                        whitespace_after_star=SimpleWhitespace(\n",
      "                            value='',\n",
      "                        ),\n",
      "                        whitespace_after_param=SimpleWhitespace(\n",
      "                            value='',\n",
      "                        ),\n",
      "                    ),\n",
      "                    Param(\n",
      "                        name=Name(\n",
      "                            value='b',\n",
      "                            lpar=[],\n",
      "                            rpar=[],\n",
      "                        ),\n",
      "                        annotation=None,\n",
      "                        equal=MaybeSentinel.DEFAULT,\n",
      "                        default=None,\n",
      "                        comma=Comma(\n",
      "                            whitespace_before=SimpleWhitespace(\n",
      "                                value='',\n",
      "                            ),\n",
      "                            whitespace_after=SimpleWhitespace(\n",
      "                                value=' ',\n",
      "                            ),\n",
      "                        ),\n",
      "                        star='',\n",
      "                        whitespace_after_star=SimpleWhitespace(\n",
      "                            value='',\n",
      "                        ),\n",
      "                        whitespace_after_param=SimpleWhitespace(\n",
      "                            value='',\n",
      "                        ),\n",
      "                    ),\n",
      "                    Param(\n",
      "                        name=Name(\n",
      "                            value='s',\n",
      "                            lpar=[],\n",
      "                            rpar=[],\n",
      "                        ),\n",
      "                        annotation=None,\n",
      "                        equal=MaybeSentinel.DEFAULT,\n",
      "                        default=None,\n",
      "                        comma=MaybeSentinel.DEFAULT,\n",
      "                        star='',\n",
      "                        whitespace_after_star=SimpleWhitespace(\n",
      "                            value='',\n",
      "                        ),\n",
      "                        whitespace_after_param=SimpleWhitespace(\n",
      "                            value='',\n",
      "                        ),\n",
      "                    ),\n",
      "                ],\n",
      "                star_arg=MaybeSentinel.DEFAULT,\n",
      "                kwonly_params=[],\n",
      "                star_kwarg=None,\n",
      "                posonly_params=[],\n",
      "                posonly_ind=MaybeSentinel.DEFAULT,\n",
      "            ),\n",
      "            body=IndentedBlock(\n",
      "                body=[\n",
      "                    SimpleStatementLine(\n",
      "                        body=[\n",
      "                            Assign(\n",
      "                                targets=[\n",
      "                                    AssignTarget(\n",
      "                                        target=Name(\n",
      "                                            value='a',\n",
      "                                            lpar=[],\n",
      "                                            rpar=[],\n",
      "                                        ),\n",
      "                                        whitespace_before_equal=SimpleWhitespace(\n",
      "                                            value=' ',\n",
      "                                        ),\n",
      "                                        whitespace_after_equal=SimpleWhitespace(\n",
      "                                            value=' ',\n",
      "                                        ),\n",
      "                                    ),\n",
      "                                ],\n",
      "                                value=BinaryOperation(\n",
      "                                    left=Name(\n",
      "                                        value='b',\n",
      "                                        lpar=[],\n",
      "                                        rpar=[],\n",
      "                                    ),\n",
      "                                    operator=Multiply(\n",
      "                                        whitespace_before=SimpleWhitespace(\n",
      "                                            value=' ',\n",
      "                                        ),\n",
      "                                        whitespace_after=SimpleWhitespace(\n",
      "                                            value=' ',\n",
      "                                        ),\n",
      "                                    ),\n",
      "                                    right=Name(\n",
      "                                        value='s',\n",
      "                                        lpar=[],\n",
      "                                        rpar=[],\n",
      "                                    ),\n",
      "                                    lpar=[],\n",
      "                                    rpar=[],\n",
      "                                ),\n",
      "                                semicolon=MaybeSentinel.DEFAULT,\n",
      "                            ),\n",
      "                        ],\n",
      "                        leading_lines=[],\n",
      "                        trailing_whitespace=TrailingWhitespace(\n",
      "                            whitespace=SimpleWhitespace(\n",
      "                                value='',\n",
      "                            ),\n",
      "                            comment=None,\n",
      "                            newline=Newline(\n",
      "                                value=None,\n",
      "                            ),\n",
      "                        ),\n",
      "                    ),\n",
      "                    SimpleStatementLine(\n",
      "                        body=[\n",
      "                            Assign(\n",
      "                                targets=[\n",
      "                                    AssignTarget(\n",
      "                                        target=Name(\n",
      "                                            value='b',\n",
      "                                            lpar=[],\n",
      "                                            rpar=[],\n",
      "                                        ),\n",
      "                                        whitespace_before_equal=SimpleWhitespace(\n",
      "                                            value=' ',\n",
      "                                        ),\n",
      "                                        whitespace_after_equal=SimpleWhitespace(\n",
      "                                            value=' ',\n",
      "                                        ),\n",
      "                                    ),\n",
      "                                ],\n",
      "                                value=BinaryOperation(\n",
      "                                    left=Name(\n",
      "                                        value='a',\n",
      "                                        lpar=[],\n",
      "                                        rpar=[],\n",
      "                                    ),\n",
      "                                    operator=Multiply(\n",
      "                                        whitespace_before=SimpleWhitespace(\n",
      "                                            value=' ',\n",
      "                                        ),\n",
      "                                        whitespace_after=SimpleWhitespace(\n",
      "                                            value=' ',\n",
      "                                        ),\n",
      "                                    ),\n",
      "                                    right=Name(\n",
      "                                        value='s',\n",
      "                                        lpar=[],\n",
      "                                        rpar=[],\n",
      "                                    ),\n",
      "                                    lpar=[],\n",
      "                                    rpar=[],\n",
      "                                ),\n",
      "                                semicolon=MaybeSentinel.DEFAULT,\n",
      "                            ),\n",
      "                        ],\n",
      "                        leading_lines=[],\n",
      "                        trailing_whitespace=TrailingWhitespace(\n",
      "                            whitespace=SimpleWhitespace(\n",
      "                                value='',\n",
      "                            ),\n",
      "                            comment=None,\n",
      "                            newline=Newline(\n",
      "                                value=None,\n",
      "                            ),\n",
      "                        ),\n",
      "                    ),\n",
      "                    SimpleStatementLine(\n",
      "                        body=[\n",
      "                            Assign(\n",
      "                                targets=[\n",
      "                                    AssignTarget(\n",
      "                                        target=Name(\n",
      "                                            value='s',\n",
      "                                            lpar=[],\n",
      "                                            rpar=[],\n",
      "                                        ),\n",
      "                                        whitespace_before_equal=SimpleWhitespace(\n",
      "                                            value=' ',\n",
      "                                        ),\n",
      "                                        whitespace_after_equal=SimpleWhitespace(\n",
      "                                            value=' ',\n",
      "                                        ),\n",
      "                                    ),\n",
      "                                ],\n",
      "                                value=BinaryOperation(\n",
      "                                    left=Name(\n",
      "                                        value='a',\n",
      "                                        lpar=[],\n",
      "                                        rpar=[],\n",
      "                                    ),\n",
      "                                    operator=Multiply(\n",
      "                                        whitespace_before=SimpleWhitespace(\n",
      "                                            value=' ',\n",
      "                                        ),\n",
      "                                        whitespace_after=SimpleWhitespace(\n",
      "                                            value=' ',\n",
      "                                        ),\n",
      "                                    ),\n",
      "                                    right=Name(\n",
      "                                        value='b',\n",
      "                                        lpar=[],\n",
      "                                        rpar=[],\n",
      "                                    ),\n",
      "                                    lpar=[],\n",
      "                                    rpar=[],\n",
      "                                ),\n",
      "                                semicolon=MaybeSentinel.DEFAULT,\n",
      "                            ),\n",
      "                        ],\n",
      "                        leading_lines=[],\n",
      "                        trailing_whitespace=TrailingWhitespace(\n",
      "                            whitespace=SimpleWhitespace(\n",
      "                                value='',\n",
      "                            ),\n",
      "                            comment=None,\n",
      "                            newline=Newline(\n",
      "                                value=None,\n",
      "                            ),\n",
      "                        ),\n",
      "                    ),\n",
      "                    SimpleStatementLine(\n",
      "                        body=[\n",
      "                            Return(\n",
      "                                value=BinaryOperation(\n",
      "                                    left=BinaryOperation(\n",
      "                                        left=Name(\n",
      "                                            value='a',\n",
      "                                            lpar=[],\n",
      "                                            rpar=[],\n",
      "                                        ),\n",
      "                                        operator=Multiply(\n",
      "                                            whitespace_before=SimpleWhitespace(\n",
      "                                                value=' ',\n",
      "                                            ),\n",
      "                                            whitespace_after=SimpleWhitespace(\n",
      "                                                value=' ',\n",
      "                                            ),\n",
      "                                        ),\n",
      "                                        right=Name(\n",
      "                                            value='s',\n",
      "                                            lpar=[],\n",
      "                                            rpar=[],\n",
      "                                        ),\n",
      "                                        lpar=[],\n",
      "                                        rpar=[],\n",
      "                                    ),\n",
      "                                    operator=Add(\n",
      "                                        whitespace_before=SimpleWhitespace(\n",
      "                                            value=' ',\n",
      "                                        ),\n",
      "                                        whitespace_after=SimpleWhitespace(\n",
      "                                            value=' ',\n",
      "                                        ),\n",
      "                                    ),\n",
      "                                    right=BinaryOperation(\n",
      "                                        left=Name(\n",
      "                                            value='b',\n",
      "                                            lpar=[],\n",
      "                                            rpar=[],\n",
      "                                        ),\n",
      "                                        operator=Multiply(\n",
      "                                            whitespace_before=SimpleWhitespace(\n",
      "                                                value=' ',\n",
      "                                            ),\n",
      "                                            whitespace_after=SimpleWhitespace(\n",
      "                                                value=' ',\n",
      "                                            ),\n",
      "                                        ),\n",
      "                                        right=Name(\n",
      "                                            value='s',\n",
      "                                            lpar=[],\n",
      "                                            rpar=[],\n",
      "                                        ),\n",
      "                                        lpar=[],\n",
      "                                        rpar=[],\n",
      "                                    ),\n",
      "                                    lpar=[],\n",
      "                                    rpar=[],\n",
      "                                ),\n",
      "                                whitespace_after_return=SimpleWhitespace(\n",
      "                                    value=' ',\n",
      "                                ),\n",
      "                                semicolon=MaybeSentinel.DEFAULT,\n",
      "                            ),\n",
      "                        ],\n",
      "                        leading_lines=[],\n",
      "                        trailing_whitespace=TrailingWhitespace(\n",
      "                            whitespace=SimpleWhitespace(\n",
      "                                value='',\n",
      "                            ),\n",
      "                            comment=None,\n",
      "                            newline=Newline(\n",
      "                                value=None,\n",
      "                            ),\n",
      "                        ),\n",
      "                    ),\n",
      "                ],\n",
      "                header=TrailingWhitespace(\n",
      "                    whitespace=SimpleWhitespace(\n",
      "                        value='',\n",
      "                    ),\n",
      "                    comment=None,\n",
      "                    newline=Newline(\n",
      "                        value=None,\n",
      "                    ),\n",
      "                ),\n",
      "                indent=None,\n",
      "                footer=[],\n",
      "            ),\n",
      "            decorators=[],\n",
      "            returns=None,\n",
      "            asynchronous=None,\n",
      "            leading_lines=[],\n",
      "            lines_after_decorators=[],\n",
      "            whitespace_after_def=SimpleWhitespace(\n",
      "                value=' ',\n",
      "            ),\n",
      "            whitespace_after_name=SimpleWhitespace(\n",
      "                value='',\n",
      "            ),\n",
      "            whitespace_before_params=SimpleWhitespace(\n",
      "                value='',\n",
      "            ),\n",
      "            whitespace_before_colon=SimpleWhitespace(\n",
      "                value='',\n",
      "            ),\n",
      "        ),\n",
      "    ],\n",
      "    header=[\n",
      "        EmptyLine(\n",
      "            indent=True,\n",
      "            whitespace=SimpleWhitespace(\n",
      "                value='',\n",
      "            ),\n",
      "            comment=None,\n",
      "            newline=Newline(\n",
      "                value=None,\n",
      "            ),\n",
      "        ),\n",
      "    ],\n",
      "    footer=[],\n",
      "    encoding='utf-8',\n",
      "    default_indent='    ',\n",
      "    default_newline='\\n',\n",
      "    has_trailing_newline=True,\n",
      ")\n"
     ]
    }
   ],
   "source": [
    "print(mdl)"
   ]
  },
  {
   "cell_type": "markdown",
   "id": "c3f68581-e0ea-4c86-ac05-b19c085639c1",
   "metadata": {
    "pycharm": {
     "name": "#%% md\n"
    }
   },
   "source": [
    "## AST TO CODE"
   ]
  },
  {
   "cell_type": "code",
   "execution_count": 8,
   "id": "1f9a42ab-dbf9-43af-a66e-09d457ea5b7c",
   "metadata": {
    "pycharm": {
     "name": "#%%\n"
    }
   },
   "outputs": [],
   "source": [
    "# code to ast\n",
    "code = \"\"\"\n",
    "def random_func(a, b, s):\n",
    "    a = b * s\n",
    "    b = a * s\n",
    "    s = a * b\n",
    "    return a * s + b * s\n",
    "\"\"\"\n",
    "mdl = cst.parse_module(code)\n",
    "\n",
    "# ast to code\n",
    "\n",
    "code_prime = cst.Module([mdl]).code"
   ]
  },
  {
   "cell_type": "code",
   "execution_count": 9,
   "id": "fb634880-6b98-49dd-ae67-022c33738af4",
   "metadata": {
    "pycharm": {
     "name": "#%%\n"
    }
   },
   "outputs": [
    {
     "name": "stdout",
     "output_type": "stream",
     "text": [
      "\n",
      "def random_func(a, b, s):\n",
      "    a = b * s\n",
      "    b = a * s\n",
      "    s = a * b\n",
      "    return a * s + b * s\n",
      "\n"
     ]
    }
   ],
   "source": [
    "print(code_prime)"
   ]
  },
  {
   "cell_type": "markdown",
   "id": "fc6f21da-43b2-453a-8ec9-36338d2dcdd8",
   "metadata": {
    "pycharm": {
     "name": "#%% md\n"
    }
   },
   "source": [
    "## SEARCH IN AST USING VISITORS"
   ]
  },
  {
   "cell_type": "markdown",
   "id": "0084db18-9621-43e0-b742-c2c7836699da",
   "metadata": {
    "pycharm": {
     "name": "#%% md\n"
    }
   },
   "source": [
    "### Example : search for calls to the function \"print\" in an arbitrary code\n",
    "* We need to implement a class that extends the Vistor class\n",
    "* The class should have a method with the name visit_NODE where NODE is the type of the node we want to find in the AST\n",
    "* In this first example, the name of the node is \"Call\" which represents any call to any function in a python code"
   ]
  },
  {
   "cell_type": "markdown",
   "id": "4cba45c6-01a5-4d4a-b887-80fd25a6dbee",
   "metadata": {
    "pycharm": {
     "name": "#%% md\n"
    }
   },
   "source": [
    "#### Visitor definition"
   ]
  },
  {
   "cell_type": "code",
   "execution_count": 10,
   "id": "f92d3cbf-c417-40e2-83cd-2d7902966e81",
   "metadata": {
    "pycharm": {
     "name": "#%%\n"
    }
   },
   "outputs": [],
   "source": [
    "class FindPrint(cst.CSTVisitor):\n",
    "    \n",
    "    # data structures to keep track of the search results\n",
    "    \n",
    "    prints = [] # the list of print calls found in the code\n",
    "    prints_detailed = [] # the details of the print call (arguments passed to the function print)\n",
    "    other_calls = [] # other calls that are not print (this is just for the sake of the example, you can drop this attribute if you don't want that list)\n",
    "    \n",
    "    # INIT\n",
    "    def __init__(self):\n",
    "        self.prints = []\n",
    "        self.other_calls = []\n",
    "        self.prints_detailed = []\n",
    "        \n",
    "    # name of the function should mention the type of node we are looking for, in this case a Call node\n",
    "    def visit_Call(self, node: cst.Call):\n",
    "        try:\n",
    "            if node.func.value == 'print':\n",
    "                self.prints.append(node)\n",
    "                self.prints_detailed.append((node.args))\n",
    "            else:\n",
    "                self.other_calls.append(node)\n",
    "        except Exception as e:\n",
    "            print(e)\n",
    "            #print(\"CALL DOES NOT HAVE ATTR VALUE\", cst.Module([node]).code)"
   ]
  },
  {
   "cell_type": "markdown",
   "id": "eb39d034-bcbe-4a40-90be-600acb6ae646",
   "metadata": {
    "pycharm": {
     "name": "#%% md\n"
    }
   },
   "source": [
    "#### Usage example"
   ]
  },
  {
   "cell_type": "code",
   "execution_count": 11,
   "id": "ad14b510-51cc-445b-a4c3-abe9a0d04185",
   "metadata": {
    "pycharm": {
     "name": "#%%\n"
    }
   },
   "outputs": [],
   "source": [
    "code = \"\"\"\n",
    "x = int(0.5)\n",
    "if x >= 0:\n",
    "    print('positive')\n",
    "else:\n",
    "    print('negative')\n",
    "\"\"\"\n",
    "\n",
    "code_tree = cst.parse_module(code)\n",
    "\n",
    "print_finder = FindPrint()\n",
    "\n",
    "_ = code_tree.visit(print_finder)\n",
    "\n",
    "assert(len(print_finder.prints) == 2)"
   ]
  },
  {
   "cell_type": "code",
   "execution_count": 12,
   "id": "47d50451-e8c3-429f-899b-37415138117a",
   "metadata": {
    "pycharm": {
     "name": "#%%\n"
    }
   },
   "outputs": [
    {
     "data": {
      "text/plain": [
       "[Call(\n",
       "     func=Name(\n",
       "         value='print',\n",
       "         lpar=[],\n",
       "         rpar=[],\n",
       "     ),\n",
       "     args=[\n",
       "         Arg(\n",
       "             value=SimpleString(\n",
       "                 value=\"'positive'\",\n",
       "                 lpar=[],\n",
       "                 rpar=[],\n",
       "             ),\n",
       "             keyword=None,\n",
       "             equal=MaybeSentinel.DEFAULT,\n",
       "             comma=MaybeSentinel.DEFAULT,\n",
       "             star='',\n",
       "             whitespace_after_star=SimpleWhitespace(\n",
       "                 value='',\n",
       "             ),\n",
       "             whitespace_after_arg=SimpleWhitespace(\n",
       "                 value='',\n",
       "             ),\n",
       "         ),\n",
       "     ],\n",
       "     lpar=[],\n",
       "     rpar=[],\n",
       "     whitespace_after_func=SimpleWhitespace(\n",
       "         value='',\n",
       "     ),\n",
       "     whitespace_before_args=SimpleWhitespace(\n",
       "         value='',\n",
       "     ),\n",
       " ),\n",
       " Call(\n",
       "     func=Name(\n",
       "         value='print',\n",
       "         lpar=[],\n",
       "         rpar=[],\n",
       "     ),\n",
       "     args=[\n",
       "         Arg(\n",
       "             value=SimpleString(\n",
       "                 value=\"'negative'\",\n",
       "                 lpar=[],\n",
       "                 rpar=[],\n",
       "             ),\n",
       "             keyword=None,\n",
       "             equal=MaybeSentinel.DEFAULT,\n",
       "             comma=MaybeSentinel.DEFAULT,\n",
       "             star='',\n",
       "             whitespace_after_star=SimpleWhitespace(\n",
       "                 value='',\n",
       "             ),\n",
       "             whitespace_after_arg=SimpleWhitespace(\n",
       "                 value='',\n",
       "             ),\n",
       "         ),\n",
       "     ],\n",
       "     lpar=[],\n",
       "     rpar=[],\n",
       "     whitespace_after_func=SimpleWhitespace(\n",
       "         value='',\n",
       "     ),\n",
       "     whitespace_before_args=SimpleWhitespace(\n",
       "         value='',\n",
       "     ),\n",
       " )]"
      ]
     },
     "execution_count": 12,
     "metadata": {},
     "output_type": "execute_result"
    }
   ],
   "source": [
    "print_finder.prints"
   ]
  },
  {
   "cell_type": "code",
   "execution_count": 13,
   "id": "cbc70bea-54b1-4367-9e3e-3ec366026811",
   "metadata": {
    "pycharm": {
     "name": "#%%\n"
    }
   },
   "outputs": [
    {
     "name": "stdout",
     "output_type": "stream",
     "text": [
      "print('positive')\n",
      "print('negative')\n"
     ]
    }
   ],
   "source": [
    "for print_call in print_finder.prints:\n",
    "    print(cst.Module([print_call]).code)"
   ]
  },
  {
   "cell_type": "code",
   "execution_count": 14,
   "id": "b7d5fa35-8286-42a7-aa0d-843cdcf5593b",
   "metadata": {
    "pycharm": {
     "name": "#%%\n"
    }
   },
   "outputs": [
    {
     "name": "stdout",
     "output_type": "stream",
     "text": [
      "int(0.5)\n"
     ]
    }
   ],
   "source": [
    "for other_call in print_finder.other_calls:\n",
    "    print(cst.Module([other_call]).code)"
   ]
  },
  {
   "cell_type": "code",
   "execution_count": 16,
   "id": "38a81238-8048-4017-8047-dccde945b1a5",
   "metadata": {
    "pycharm": {
     "name": "#%%\n"
    }
   },
   "outputs": [
    {
     "name": "stdout",
     "output_type": "stream",
     "text": [
      "The function print was called with the following argument(s): 'positive'\n",
      "The function print was called with the following argument(s): 'negative'\n"
     ]
    }
   ],
   "source": [
    "for print_detail in print_finder.prints_detailed:\n",
    "    print('The function print was called with the following argument(s):', cst.Module(list(print_detail)).code)"
   ]
  },
  {
   "cell_type": "markdown",
   "id": "be883bf5-2dea-4c02-8a98-d1e515fc9d0c",
   "metadata": {
    "pycharm": {
     "name": "#%% md\n"
    }
   },
   "source": [
    "## AST BASED CODE MODIFICATION"
   ]
  },
  {
   "cell_type": "markdown",
   "id": "664d5530-c405-4036-a3a5-78ed573ce98d",
   "metadata": {
    "pycharm": {
     "name": "#%% md\n"
    }
   },
   "source": [
    "### Example: replace the argument value for all function calls with a specific value\n",
    "Of course you can develop this example more, using condition over the name of the called function and the value of the argument.\n",
    "This is it just an example on how to do a basic transformation on an AST node."
   ]
  },
  {
   "cell_type": "code",
   "execution_count": 17,
   "id": "9d1ae7d2-a11f-4669-813e-4df4748bf87d",
   "metadata": {
    "pycharm": {
     "name": "#%%\n"
    }
   },
   "outputs": [],
   "source": [
    "class CallTransformer(cst.CSTTransformer):\n",
    "    \n",
    "    def __init__(self, name, args):\n",
    "        self.stack = []\n",
    "        self.name = name\n",
    "        self.args = args\n",
    "\n",
    "    def visit_Call(self, node: cst.FunctionDef):\n",
    "        self.stack.append(node)\n",
    "        \n",
    "    def leave_Call(self, original_node: cst.Call, updated_node: cst.Call):\n",
    "        self.stack.pop()\n",
    "        return updated_node.with_changes(\n",
    "            func = original_node.func, args=(cst.Arg(value = cst.SimpleString(value = \"'custom value here'\", lpar = [], rpar = [])),)\n",
    "        )\n",
    "        return updated_node"
   ]
  },
  {
   "cell_type": "code",
   "execution_count": 18,
   "id": "22718f08-c8e4-4741-9af8-36513ce5fae0",
   "metadata": {
    "pycharm": {
     "name": "#%%\n"
    }
   },
   "outputs": [],
   "source": [
    "code = \"\"\"\n",
    "x = int(0.5)\n",
    "if x >= 0:\n",
    "    print('positive')\n",
    "else:\n",
    "    print('negative')\n",
    "\"\"\"\n",
    "\n",
    "code_tree = cst.parse_module(code)\n",
    "\n",
    "transformer = CallTransformer('log', print_detail)\n",
    "tree = code_tree.visit(transformer)\n"
   ]
  },
  {
   "cell_type": "code",
   "execution_count": 19,
   "id": "3a6fafc9-9523-4bdd-9718-1928b19d8ae4",
   "metadata": {
    "pycharm": {
     "name": "#%%\n"
    }
   },
   "outputs": [
    {
     "name": "stdout",
     "output_type": "stream",
     "text": [
      "\n",
      "x = int('custom value here')\n",
      "if x >= 0:\n",
      "    print('custom value here')\n",
      "else:\n",
      "    print('custom value here')\n",
      "\n"
     ]
    }
   ],
   "source": [
    "print(tree.code)"
   ]
  },
  {
   "cell_type": "code",
   "execution_count": null,
   "id": "1890084f-ff71-4f49-abd5-712414037b90",
   "metadata": {
    "pycharm": {
     "name": "#%%\n"
    }
   },
   "outputs": [],
   "source": []
  }
 ],
 "metadata": {
  "kernelspec": {
   "display_name": "Python 3 (ipykernel)",
   "language": "python",
   "name": "python3"
  },
  "language_info": {
   "codemirror_mode": {
    "name": "ipython",
    "version": 3
   },
   "file_extension": ".py",
   "mimetype": "text/x-python",
   "name": "python",
   "nbconvert_exporter": "python",
   "pygments_lexer": "ipython3",
   "version": "3.8.10"
  },
  "toc-autonumbering": true,
  "toc-showtags": false
 },
 "nbformat": 4,
 "nbformat_minor": 5
}